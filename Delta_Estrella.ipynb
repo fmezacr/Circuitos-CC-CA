{
  "nbformat": 4,
  "nbformat_minor": 0,
  "metadata": {
    "colab": {
      "provenance": [],
      "authorship_tag": "ABX9TyNCbEzAd2QG8atGZsxggt3a",
      "include_colab_link": true
    },
    "kernelspec": {
      "name": "python3",
      "display_name": "Python 3"
    },
    "language_info": {
      "name": "python"
    }
  },
  "cells": [
    {
      "cell_type": "markdown",
      "metadata": {
        "id": "view-in-github",
        "colab_type": "text"
      },
      "source": [
        "<a href=\"https://colab.research.google.com/github/fmezacr/Circuitos-CC-CA/blob/main/Delta_Estrella.ipynb\" target=\"_parent\"><img src=\"https://colab.research.google.com/assets/colab-badge.svg\" alt=\"Open In Colab\"/></a>"
      ]
    },
    {
      "cell_type": "markdown",
      "source": [
        "\n",
        "---\n",
        "\n",
        "<div style=\"font-size:small;\">\n",
        "\n",
        "MIT License\n",
        "\n",
        "Copyright (c) [2024] Felipe Meza-Obando\n",
        "\n",
        "*Permission is hereby granted, free of charge, to any person obtaining a copy\n",
        "of this software and associated documentation files (the \"Software\"), to deal\n",
        "in the Software for educational purposes only. You must give author appropriate credit, provide a link to the license and source, and indicate if changes were made.*\n",
        "</div>\n",
        "\n",
        "---"
      ],
      "metadata": {
        "id": "GcSOfE63FM1D"
      }
    },
    {
      "cell_type": "markdown",
      "source": [
        "\n",
        "## **Transformaciones Delta-Estrella y Estrella-Delta**\n",
        "### Autor: ***Felipe Meza-Obando***"
      ],
      "metadata": {
        "id": "J16ZsAoSDXT5"
      }
    },
    {
      "cell_type": "markdown",
      "source": [
        "\n",
        "## **1. Introducción**\n",
        "\n",
        "Las redes de resistencias pueden representarse en dos configuraciones fundamentales:\n",
        "\n",
        "- **Configuración Delta (Δ)**: Tres resistencias conectadas en forma de triángulo.\n",
        "- **Configuración Estrella (Y)**: Tres resistencias conectadas con un nodo común.\n",
        "\n",
        "Las transformaciones entre estas configuraciones son esenciales en análisis de circuitos eléctricos, especialmente cuando se requiere simplificar redes complejas. Su aplicación es fundamental en sistemas de distribución eléctrica, análisis de circuitos en ingeniería eléctrica y electrónica, y en la resolución de circuitos complejos donde se busca reducir el número de elementos.\n"
      ],
      "metadata": {
        "id": "3maEakzMDY_c"
      }
    },
    {
      "cell_type": "markdown",
      "source": [
        "\n",
        "### **Aplicaciones Prácticas**\n",
        "\n",
        "- **Sistemas de Potencia**: En las redes eléctricas de transmisión y distribución, las configuraciones Δ y Y se usan para transformar voltajes y corrientes.\n",
        "- **Análisis de Circuitos**: Estas conversiones ayudan a resolver circuitos complejos aplicando métodos como mallas y nodos.\n",
        "- **Diseño de Circuitos Electrónicos**: Se emplean en filtros, amplificadores y circuitos de adaptación de impedancias.\n",
        "\n",
        "Exploraremos:\n",
        "\n",
        "- Cómo convertir una red Delta en una Estrella.\n",
        "- Cómo convertir una red Estrella en una Delta.\n",
        "- Implementación en Python con gráficos de los circuitos.\n",
        "- Código interactivo para que los estudiantes prueben sus propios valores.\n",
        "\n",
        "---"
      ],
      "metadata": {
        "id": "1Gw0a0f-DjHV"
      }
    },
    {
      "cell_type": "markdown",
      "source": [
        "## **2. Conversión Delta a Estrella (Δ → Y)**\n",
        "\n",
        "Para transformar una red **Δ** en una **Y**, utilizamos las siguientes ecuaciones:\n",
        "\n",
        "$$\n",
        "R_1 = \\frac{R_b R_c}{R_a + R_b + R_c}\n",
        "$$\n",
        "\n",
        "$$\n",
        "R_2 = \\frac{R_a R_c}{R_a + R_b + R_c}\n",
        "$$\n",
        "\n",
        "$$\n",
        "R_3 = \\frac{R_a R_b}{R_a + R_b + R_c}\n",
        "$$\n",
        "\n",
        "Esta transformación se usa cuando queremos simplificar un circuito con una conexión triangular y convertirlo en una forma más fácil de analizar con mallas o el método de nodos.\n"
      ],
      "metadata": {
        "id": "vMlkFZa_Eg1l"
      }
    },
    {
      "cell_type": "markdown",
      "source": [
        "### **Visualización del Circuito en Python**\n"
      ],
      "metadata": {
        "id": "Y7oZfAiVEpnM"
      }
    },
    {
      "cell_type": "code",
      "source": [
        "!pip install schemdraw\n"
      ],
      "metadata": {
        "colab": {
          "base_uri": "https://localhost:8080/"
        },
        "id": "gmEgBI224jDB",
        "outputId": "7765e886-4e7d-435f-9e9a-3ad2c59b6d7b"
      },
      "execution_count": 1,
      "outputs": [
        {
          "output_type": "stream",
          "name": "stdout",
          "text": [
            "Requirement already satisfied: schemdraw in /usr/local/lib/python3.11/dist-packages (0.19)\n"
          ]
        }
      ]
    },
    {
      "cell_type": "code",
      "source": [
        "import schemdraw\n",
        "import schemdraw.elements as elm\n",
        "\n",
        "def dibujar_delta():\n",
        "    with schemdraw.Drawing() as d:\n",
        "        d += elm.Resistor().down().label(\"$R_a$\")\n",
        "        d += elm.Resistor().right().label(\"$R_b$\")\n",
        "        d += elm.Resistor().up().label(\"$R_c$\")\n",
        "        d += elm.Line().left()\n",
        "        d.draw()\n",
        "\n",
        "def dibujar_estrella():\n",
        "    with schemdraw.Drawing() as d:\n",
        "        d += elm.Dot()\n",
        "        d += elm.Resistor().down().label(\"$R_1$\")\n",
        "        d += elm.Resistor().left().at((0, 0.02)).label(\"$R_2$\")\n",
        "        d += elm.Resistor().right().at((0, 0.02)).label(\"$R_3$\")\n",
        "        d += elm.Dot().at((3, 0.02))\n",
        "        d += elm.Dot().at((-3, 0.02))\n",
        "        d += elm.Dot().at((0, -3))\n",
        "\n",
        "        d.draw()\n",
        "\n",
        "print(\"Circuito en Delta:\")\n",
        "dibujar_delta()\n",
        "print(\"Circuito en Estrella:\")\n",
        "dibujar_estrella()"
      ],
      "metadata": {
        "colab": {
          "base_uri": "https://localhost:8080/",
          "height": 422
        },
        "id": "dI7jqZk6Emrv",
        "outputId": "0b8c900e-1b81-4ea2-fda3-2f03c75e4f2d"
      },
      "execution_count": 29,
      "outputs": [
        {
          "output_type": "stream",
          "name": "stdout",
          "text": [
            "Circuito en Delta:\n"
          ]
        },
        {
          "output_type": "display_data",
          "data": {
            "text/plain": [
              "<schemdraw.backends.mpl.Figure object at 0x7beb8ff5d8d0>"
            ],
            "image/svg+xml": "<?xml version=\"1.0\" encoding=\"utf-8\" standalone=\"no\"?>\n<!DOCTYPE svg PUBLIC \"-//W3C//DTD SVG 1.1//EN\"\n  \"http://www.w3.org/Graphics/SVG/1.1/DTD/svg11.dtd\">\n<svg xmlns:xlink=\"http://www.w3.org/1999/xlink\" width=\"159.456pt\" height=\"126.36pt\" viewBox=\"0 0 159.456 126.36\" xmlns=\"http://www.w3.org/2000/svg\" version=\"1.1\">\n <metadata>\n  <rdf:RDF xmlns:dc=\"http://purl.org/dc/elements/1.1/\" xmlns:cc=\"http://creativecommons.org/ns#\" xmlns:rdf=\"http://www.w3.org/1999/02/22-rdf-syntax-ns#\">\n   <cc:Work>\n    <dc:type rdf:resource=\"http://purl.org/dc/dcmitype/StillImage\"/>\n    <dc:date>2025-02-11T17:58:40.092355</dc:date>\n    <dc:format>image/svg+xml</dc:format>\n    <dc:creator>\n     <cc:Agent>\n      <dc:title>Matplotlib v3.10.0, https://matplotlib.org/</dc:title>\n     </cc:Agent>\n    </dc:creator>\n   </cc:Work>\n  </rdf:RDF>\n </metadata>\n <defs>\n  <style type=\"text/css\">*{stroke-linejoin: round; stroke-linecap: butt}</style>\n </defs>\n <g id=\"figure_1\">\n  <g id=\"patch_1\">\n   <path d=\"M 0 126.36 \nL 159.456 126.36 \nL 159.456 0 \nL 0 0 \nz\n\" style=\"fill: #ffffff\"/>\n  </g>\n  <g id=\"axes_1\">\n   <g id=\"line2d_1\">\n    <path d=\"M 37.776 4.68 \nL 37.776 40.68 \nL 46.776 43.68 \nL 28.776 49.68 \nL 46.776 55.68 \nL 28.776 61.68 \nL 46.776 67.68 \nL 28.776 73.68 \nL 37.776 76.68 \nL 37.776 112.68 \n\" clip-path=\"url(#p5166d80c84)\" style=\"fill: none; stroke: #000000; stroke-width: 2; stroke-linecap: round\"/>\n   </g>\n   <g id=\"line2d_2\">\n    <path d=\"M 37.776 112.68 \nL 73.776 112.68 \nL 76.776 103.68 \nL 82.776 121.68 \nL 88.776 103.68 \nL 94.776 121.68 \nL 100.776 103.68 \nL 106.776 121.68 \nL 109.776 112.68 \nL 145.776 112.68 \n\" clip-path=\"url(#p5166d80c84)\" style=\"fill: none; stroke: #000000; stroke-width: 2; stroke-linecap: round\"/>\n   </g>\n   <g id=\"line2d_3\">\n    <path d=\"M 145.776 112.68 \nL 145.776 76.68 \nL 136.776 73.68 \nL 154.776 67.68 \nL 136.776 61.68 \nL 154.776 55.68 \nL 136.776 49.68 \nL 154.776 43.68 \nL 145.776 40.68 \nL 145.776 4.68 \n\" clip-path=\"url(#p5166d80c84)\" style=\"fill: none; stroke: #000000; stroke-width: 2; stroke-linecap: round\"/>\n   </g>\n   <g id=\"line2d_4\">\n    <path d=\"M 145.776 4.68 \nL 91.776 4.68 \nL 37.776 4.68 \n\" clip-path=\"url(#p5166d80c84)\" style=\"fill: none; stroke: #000000; stroke-width: 2; stroke-linecap: round\"/>\n   </g>\n   <g id=\"text_1\">\n    <!-- $R_a$ -->\n    <g transform=\"translate(8.936 62.543125) scale(0.14 -0.14)\">\n     <defs>\n      <path id=\"DejaVuSans-Oblique-52\" d=\"M 1613 4147 \nL 1294 2491 \nL 2106 2491 \nQ 2584 2491 2879 2755 \nQ 3175 3019 3175 3444 \nQ 3175 3784 2976 3965 \nQ 2778 4147 2406 4147 \nL 1613 4147 \nz\nM 2772 2241 \nQ 2972 2194 3105 2009 \nQ 3238 1825 3413 1275 \nL 3809 0 \nL 3144 0 \nL 2778 1197 \nQ 2638 1659 2453 1815 \nQ 2269 1972 1888 1972 \nL 1191 1972 \nL 806 0 \nL 172 0 \nL 1081 4666 \nL 2503 4666 \nQ 3150 4666 3495 4373 \nQ 3841 4081 3841 3531 \nQ 3841 3044 3547 2687 \nQ 3253 2331 2772 2241 \nz\n\" transform=\"scale(0.015625)\"/>\n      <path id=\"DejaVuSans-Oblique-61\" d=\"M 3438 1997 \nL 3047 0 \nL 2472 0 \nL 2578 531 \nQ 2325 219 2001 64 \nQ 1678 -91 1281 -91 \nQ 834 -91 548 182 \nQ 263 456 263 884 \nQ 263 1497 752 1853 \nQ 1241 2209 2100 2209 \nL 2900 2209 \nL 2931 2363 \nQ 2938 2388 2941 2417 \nQ 2944 2447 2944 2509 \nQ 2944 2788 2717 2942 \nQ 2491 3097 2081 3097 \nQ 1800 3097 1504 3025 \nQ 1209 2953 897 2809 \nL 997 3341 \nQ 1322 3463 1633 3523 \nQ 1944 3584 2234 3584 \nQ 2853 3584 3176 3315 \nQ 3500 3047 3500 2534 \nQ 3500 2431 3484 2292 \nQ 3469 2153 3438 1997 \nz\nM 2816 1759 \nL 2241 1759 \nQ 1534 1759 1195 1570 \nQ 856 1381 856 984 \nQ 856 709 1029 553 \nQ 1203 397 1509 397 \nQ 1978 397 2328 733 \nQ 2678 1069 2791 1631 \nL 2816 1759 \nz\n\" transform=\"scale(0.015625)\"/>\n     </defs>\n     <use xlink:href=\"#DejaVuSans-Oblique-52\" transform=\"translate(0 0.09375)\"/>\n     <use xlink:href=\"#DejaVuSans-Oblique-61\" transform=\"translate(69.482422 -16.3125) scale(0.7)\"/>\n    </g>\n   </g>\n   <g id=\"text_2\">\n    <!-- $R_b$ -->\n    <g transform=\"translate(83.586 97.168438) scale(0.14 -0.14)\">\n     <defs>\n      <path id=\"DejaVuSans-Oblique-62\" d=\"M 3169 2138 \nQ 3169 2591 2961 2847 \nQ 2753 3103 2388 3103 \nQ 2122 3103 1889 2973 \nQ 1656 2844 1484 2597 \nQ 1303 2338 1198 1995 \nQ 1094 1653 1094 1313 \nQ 1094 881 1298 636 \nQ 1503 391 1863 391 \nQ 2134 391 2365 517 \nQ 2597 644 2772 891 \nQ 2950 1147 3059 1487 \nQ 3169 1828 3169 2138 \nz\nM 1381 2969 \nQ 1594 3256 1914 3420 \nQ 2234 3584 2584 3584 \nQ 3122 3584 3439 3221 \nQ 3756 2859 3756 2241 \nQ 3756 1734 3570 1259 \nQ 3384 784 3041 416 \nQ 2816 172 2522 40 \nQ 2228 -91 1906 -91 \nQ 1566 -91 1316 65 \nQ 1066 222 909 531 \nL 806 0 \nL 231 0 \nL 1178 4863 \nL 1753 4863 \nL 1381 2969 \nz\n\" transform=\"scale(0.015625)\"/>\n     </defs>\n     <use xlink:href=\"#DejaVuSans-Oblique-52\" transform=\"translate(0 0.09375)\"/>\n     <use xlink:href=\"#DejaVuSans-Oblique-62\" transform=\"translate(69.482422 -16.3125) scale(0.7)\"/>\n    </g>\n   </g>\n   <g id=\"text_3\">\n    <!-- $R_c$ -->\n    <g transform=\"translate(117.636 62.543125) scale(0.14 -0.14)\">\n     <defs>\n      <path id=\"DejaVuSans-Oblique-63\" d=\"M 3431 3366 \nL 3316 2797 \nQ 3109 2947 2876 3022 \nQ 2644 3097 2394 3097 \nQ 2119 3097 1870 3000 \nQ 1622 2903 1453 2725 \nQ 1184 2453 1037 2087 \nQ 891 1722 891 1331 \nQ 891 859 1127 628 \nQ 1363 397 1844 397 \nQ 2081 397 2348 469 \nQ 2616 541 2906 684 \nL 2797 116 \nQ 2547 13 2283 -39 \nQ 2019 -91 1741 -91 \nQ 1044 -91 669 257 \nQ 294 606 294 1253 \nQ 294 1797 489 2255 \nQ 684 2713 1069 3078 \nQ 1331 3328 1684 3456 \nQ 2038 3584 2456 3584 \nQ 2700 3584 2940 3529 \nQ 3181 3475 3431 3366 \nz\n\" transform=\"scale(0.015625)\"/>\n     </defs>\n     <use xlink:href=\"#DejaVuSans-Oblique-52\" transform=\"translate(0 0.09375)\"/>\n     <use xlink:href=\"#DejaVuSans-Oblique-63\" transform=\"translate(69.482422 -16.3125) scale(0.7)\"/>\n    </g>\n   </g>\n  </g>\n </g>\n <defs>\n  <clipPath id=\"p5166d80c84\">\n   <rect x=\"0\" y=\"0\" width=\"159.456\" height=\"126.36\"/>\n  </clipPath>\n </defs>\n</svg>\n",
            "image/png": "[encoded data removed]"
          },
          "metadata": {}
        },
        {
          "output_type": "stream",
          "name": "stdout",
          "text": [
            "Circuito en Estrella:\n"
          ]
        },
        {
          "output_type": "display_data",
          "data": {
            "text/plain": [
              "<schemdraw.backends.mpl.Figure object at 0x7beb8fee1610>"
            ],
            "image/svg+xml": "<?xml version=\"1.0\" encoding=\"utf-8\" standalone=\"no\"?>\n<!DOCTYPE svg PUBLIC \"-//W3C//DTD SVG 1.1//EN\"\n  \"http://www.w3.org/Graphics/SVG/1.1/DTD/svg11.dtd\">\n<svg xmlns:xlink=\"http://www.w3.org/1999/xlink\" width=\"230.76pt\" height=\"144.58pt\" viewBox=\"0 0 230.76 144.58\" xmlns=\"http://www.w3.org/2000/svg\" version=\"1.1\">\n <metadata>\n  <rdf:RDF xmlns:dc=\"http://purl.org/dc/elements/1.1/\" xmlns:cc=\"http://creativecommons.org/ns#\" xmlns:rdf=\"http://www.w3.org/1999/02/22-rdf-syntax-ns#\">\n   <cc:Work>\n    <dc:type rdf:resource=\"http://purl.org/dc/dcmitype/StillImage\"/>\n    <dc:date>2025-02-11T17:58:40.199186</dc:date>\n    <dc:format>image/svg+xml</dc:format>\n    <dc:creator>\n     <cc:Agent>\n      <dc:title>Matplotlib v3.10.0, https://matplotlib.org/</dc:title>\n     </cc:Agent>\n    </dc:creator>\n   </cc:Work>\n  </rdf:RDF>\n </metadata>\n <defs>\n  <style type=\"text/css\">*{stroke-linejoin: round; stroke-linecap: butt}</style>\n </defs>\n <g id=\"figure_1\">\n  <g id=\"patch_1\">\n   <path d=\"M 0 144.58 \nL 230.76 144.58 \nL 230.76 0 \nL 0 0 \nz\n\" style=\"fill: #ffffff\"/>\n  </g>\n  <g id=\"axes_1\">\n   <g id=\"line2d_1\">\n    <path d=\"M 115.38 29.2 \nL 115.38 65.2 \nL 124.38 68.2 \nL 106.38 74.2 \nL 124.38 80.2 \nL 106.38 86.2 \nL 124.38 92.2 \nL 106.38 98.2 \nL 115.38 101.2 \nL 115.38 137.2 \n\" clip-path=\"url(#p0c89270736)\" style=\"fill: none; stroke: #000000; stroke-width: 2; stroke-linecap: round\"/>\n   </g>\n   <g id=\"line2d_2\">\n    <path d=\"M 115.38 28.48 \nL 79.38 28.48 \nL 76.38 37.48 \nL 70.38 19.48 \nL 64.38 37.48 \nL 58.38 19.48 \nL 52.38 37.48 \nL 46.38 19.48 \nL 43.38 28.48 \nL 7.38 28.48 \n\" clip-path=\"url(#p0c89270736)\" style=\"fill: none; stroke: #000000; stroke-width: 2; stroke-linecap: round\"/>\n   </g>\n   <g id=\"line2d_3\">\n    <path d=\"M 115.38 28.48 \nL 151.38 28.48 \nL 154.38 19.48 \nL 160.38 37.48 \nL 166.38 19.48 \nL 172.38 37.48 \nL 178.38 19.48 \nL 184.38 37.48 \nL 187.38 28.48 \nL 223.38 28.48 \n\" clip-path=\"url(#p0c89270736)\" style=\"fill: none; stroke: #000000; stroke-width: 2; stroke-linecap: round\"/>\n   </g>\n   <g id=\"text_1\">\n    <!-- $R_1$ -->\n    <g transform=\"translate(86.4 87.063125) scale(0.14 -0.14)\">\n     <defs>\n      <path id=\"DejaVuSans-Oblique-52\" d=\"M 1613 4147 \nL 1294 2491 \nL 2106 2491 \nQ 2584 2491 2879 2755 \nQ 3175 3019 3175 3444 \nQ 3175 3784 2976 3965 \nQ 2778 4147 2406 4147 \nL 1613 4147 \nz\nM 2772 2241 \nQ 2972 2194 3105 2009 \nQ 3238 1825 3413 1275 \nL 3809 0 \nL 3144 0 \nL 2778 1197 \nQ 2638 1659 2453 1815 \nQ 2269 1972 1888 1972 \nL 1191 1972 \nL 806 0 \nL 172 0 \nL 1081 4666 \nL 2503 4666 \nQ 3150 4666 3495 4373 \nQ 3841 4081 3841 3531 \nQ 3841 3044 3547 2687 \nQ 3253 2331 2772 2241 \nz\n\" transform=\"scale(0.015625)\"/>\n      <path id=\"DejaVuSans-31\" d=\"M 794 531 \nL 1825 531 \nL 1825 4091 \nL 703 3866 \nL 703 4441 \nL 1819 4666 \nL 2450 4666 \nL 2450 531 \nL 3481 531 \nL 3481 0 \nL 794 0 \nL 794 531 \nz\n\" transform=\"scale(0.015625)\"/>\n     </defs>\n     <use xlink:href=\"#DejaVuSans-Oblique-52\" transform=\"translate(0 0.09375)\"/>\n     <use xlink:href=\"#DejaVuSans-31\" transform=\"translate(69.482422 -16.3125) scale(0.7)\"/>\n    </g>\n   </g>\n   <g id=\"text_2\">\n    <!-- $R_2$ -->\n    <g transform=\"translate(53.19 12.968437) scale(0.14 -0.14)\">\n     <defs>\n      <path id=\"DejaVuSans-32\" d=\"M 1228 531 \nL 3431 531 \nL 3431 0 \nL 469 0 \nL 469 531 \nQ 828 903 1448 1529 \nQ 2069 2156 2228 2338 \nQ 2531 2678 2651 2914 \nQ 2772 3150 2772 3378 \nQ 2772 3750 2511 3984 \nQ 2250 4219 1831 4219 \nQ 1534 4219 1204 4116 \nQ 875 4013 500 3803 \nL 500 4441 \nQ 881 4594 1212 4672 \nQ 1544 4750 1819 4750 \nQ 2544 4750 2975 4387 \nQ 3406 4025 3406 3419 \nQ 3406 3131 3298 2873 \nQ 3191 2616 2906 2266 \nQ 2828 2175 2409 1742 \nQ 1991 1309 1228 531 \nz\n\" transform=\"scale(0.015625)\"/>\n     </defs>\n     <use xlink:href=\"#DejaVuSans-Oblique-52\" transform=\"translate(0 0.09375)\"/>\n     <use xlink:href=\"#DejaVuSans-32\" transform=\"translate(69.482422 -16.3125) scale(0.7)\"/>\n    </g>\n   </g>\n   <g id=\"text_3\">\n    <!-- $R_3$ -->\n    <g transform=\"translate(161.19 12.968437) scale(0.14 -0.14)\">\n     <defs>\n      <path id=\"DejaVuSans-33\" d=\"M 2597 2516 \nQ 3050 2419 3304 2112 \nQ 3559 1806 3559 1356 \nQ 3559 666 3084 287 \nQ 2609 -91 1734 -91 \nQ 1441 -91 1130 -33 \nQ 819 25 488 141 \nL 488 750 \nQ 750 597 1062 519 \nQ 1375 441 1716 441 \nQ 2309 441 2620 675 \nQ 2931 909 2931 1356 \nQ 2931 1769 2642 2001 \nQ 2353 2234 1838 2234 \nL 1294 2234 \nL 1294 2753 \nL 1863 2753 \nQ 2328 2753 2575 2939 \nQ 2822 3125 2822 3475 \nQ 2822 3834 2567 4026 \nQ 2313 4219 1838 4219 \nQ 1578 4219 1281 4162 \nQ 984 4106 628 3988 \nL 628 4550 \nQ 988 4650 1302 4700 \nQ 1616 4750 1894 4750 \nQ 2613 4750 3031 4423 \nQ 3450 4097 3450 3541 \nQ 3450 3153 3228 2886 \nQ 3006 2619 2597 2516 \nz\n\" transform=\"scale(0.015625)\"/>\n     </defs>\n     <use xlink:href=\"#DejaVuSans-Oblique-52\" transform=\"translate(0 0.09375)\"/>\n     <use xlink:href=\"#DejaVuSans-33\" transform=\"translate(69.482422 -16.3125) scale(0.7)\"/>\n    </g>\n   </g>\n   <g id=\"patch_2\">\n    <path d=\"M 115.38 31.9 \nC 116.096048 31.9 116.782866 31.615511 117.289188 31.109188 \nC 117.795511 30.602866 118.08 29.916048 118.08 29.2 \nC 118.08 28.483952 117.795511 27.797134 117.289188 27.290812 \nC 116.782866 26.784489 116.096048 26.5 115.38 26.5 \nC 114.663952 26.5 113.977134 26.784489 113.470812 27.290812 \nC 112.964489 27.797134 112.68 28.483952 112.68 29.2 \nC 112.68 29.916048 112.964489 30.602866 113.470812 31.109188 \nC 113.977134 31.615511 114.663952 31.9 115.38 31.9 \nz\n\" clip-path=\"url(#p0c89270736)\" style=\"stroke: #000000; stroke-width: 2; stroke-linejoin: miter\"/>\n   </g>\n   <g id=\"patch_3\">\n    <path d=\"M 223.38 31.18 \nC 224.096048 31.18 224.782866 30.895511 225.289188 30.389188 \nC 225.795511 29.882866 226.08 29.196048 226.08 28.48 \nC 226.08 27.763952 225.795511 27.077134 225.289188 26.570812 \nC 224.782866 26.064489 224.096048 25.78 223.38 25.78 \nC 222.663952 25.78 221.977134 26.064489 221.470812 26.570812 \nC 220.964489 27.077134 220.68 27.763952 220.68 28.48 \nC 220.68 29.196048 220.964489 29.882866 221.470812 30.389188 \nC 221.977134 30.895511 222.663952 31.18 223.38 31.18 \nz\n\" clip-path=\"url(#p0c89270736)\" style=\"stroke: #000000; stroke-width: 2; stroke-linejoin: miter\"/>\n   </g>\n   <g id=\"patch_4\">\n    <path d=\"M 7.38 31.18 \nC 8.096048 31.18 8.782866 30.895511 9.289188 30.389188 \nC 9.795511 29.882866 10.08 29.196048 10.08 28.48 \nC 10.08 27.763952 9.795511 27.077134 9.289188 26.570812 \nC 8.782866 26.064489 8.096048 25.78 7.38 25.78 \nC 6.663952 25.78 5.977134 26.064489 5.470812 26.570812 \nC 4.964489 27.077134 4.68 27.763952 4.68 28.48 \nC 4.68 29.196048 4.964489 29.882866 5.470812 30.389188 \nC 5.977134 30.895511 6.663952 31.18 7.38 31.18 \nz\n\" clip-path=\"url(#p0c89270736)\" style=\"stroke: #000000; stroke-width: 2; stroke-linejoin: miter\"/>\n   </g>\n   <g id=\"patch_5\">\n    <path d=\"M 115.38 139.9 \nC 116.096048 139.9 116.782866 139.615511 117.289188 139.109188 \nC 117.795511 138.602866 118.08 137.916048 118.08 137.2 \nC 118.08 136.483952 117.795511 135.797134 117.289188 135.290812 \nC 116.782866 134.784489 116.096048 134.5 115.38 134.5 \nC 114.663952 134.5 113.977134 134.784489 113.470812 135.290812 \nC 112.964489 135.797134 112.68 136.483952 112.68 137.2 \nC 112.68 137.916048 112.964489 138.602866 113.470812 139.109188 \nC 113.977134 139.615511 114.663952 139.9 115.38 139.9 \nz\n\" clip-path=\"url(#p0c89270736)\" style=\"stroke: #000000; stroke-width: 2; stroke-linejoin: miter\"/>\n   </g>\n  </g>\n </g>\n <defs>\n  <clipPath id=\"p0c89270736\">\n   <rect x=\"0\" y=\"-0\" width=\"230.76\" height=\"144.58\"/>\n  </clipPath>\n </defs>\n</svg>\n",
            "image/png": "[encoded data removed]"
          },
          "metadata": {}
        }
      ]
    },
    {
      "cell_type": "markdown",
      "source": [
        "---\n",
        "\n",
        "## **3. Conversión Estrella a Delta (Y → Δ)**\n",
        "\n",
        "Para transformar una red **Y** en una **Δ**, usamos las ecuaciones:\n",
        "\n",
        "$$\n",
        "R_a = \\frac{R_1 R_2 + R_2 R_3 + R_3 R_1}{R_1}\n",
        "$$\n",
        "\n",
        "$$\n",
        "R_b = \\frac{R_1 R_2 + R_2 R_3 + R_3 R_1}{R_2}\n",
        "$$\n",
        "\n",
        "$$\n",
        "R_c = \\frac{R_1 R_2 + R_2 R_3 + R_3 R_1}{R_3}\n",
        "$$\n",
        "\n",
        "Esta transformación se usa cuando queremos expresar un nodo en términos de una conexión en triángulo, lo cual puede facilitar el análisis y la resolución de circuitos eléctricos.\n"
      ],
      "metadata": {
        "id": "RU14YlOwExN7"
      }
    },
    {
      "cell_type": "markdown",
      "source": [
        "### **Visualización del Circuito en Python**"
      ],
      "metadata": {
        "id": "GOstQJkHE0FY"
      }
    },
    {
      "cell_type": "code",
      "source": [
        "print(\"Circuito en Estrella:\")\n",
        "dibujar_estrella()\n",
        "print(\"Circuito en Delta:\")\n",
        "dibujar_delta()"
      ],
      "metadata": {
        "colab": {
          "base_uri": "https://localhost:8080/",
          "height": 422
        },
        "id": "ZzU-x5yxE2at",
        "outputId": "e462abca-a72a-4294-85b5-baf42a69b378"
      },
      "execution_count": 18,
      "outputs": [
        {
          "output_type": "stream",
          "name": "stdout",
          "text": [
            "Circuito en Estrella:\n"
          ]
        },
        {
          "output_type": "display_data",
          "data": {
            "text/plain": [
              "<schemdraw.backends.mpl.Figure object at 0x7beb8ff30390>"
            ],
            "image/svg+xml": "<?xml version=\"1.0\" encoding=\"utf-8\" standalone=\"no\"?>\n<!DOCTYPE svg PUBLIC \"-//W3C//DTD SVG 1.1//EN\"\n  \"http://www.w3.org/Graphics/SVG/1.1/DTD/svg11.dtd\">\n<svg xmlns:xlink=\"http://www.w3.org/1999/xlink\" width=\"230.76pt\" height=\"144.58pt\" viewBox=\"0 0 230.76 144.58\" xmlns=\"http://www.w3.org/2000/svg\" version=\"1.1\">\n <metadata>\n  <rdf:RDF xmlns:dc=\"http://purl.org/dc/elements/1.1/\" xmlns:cc=\"http://creativecommons.org/ns#\" xmlns:rdf=\"http://www.w3.org/1999/02/22-rdf-syntax-ns#\">\n   <cc:Work>\n    <dc:type rdf:resource=\"http://purl.org/dc/dcmitype/StillImage\"/>\n    <dc:date>2025-02-11T17:45:02.173913</dc:date>\n    <dc:format>image/svg+xml</dc:format>\n    <dc:creator>\n     <cc:Agent>\n      <dc:title>Matplotlib v3.10.0, https://matplotlib.org/</dc:title>\n     </cc:Agent>\n    </dc:creator>\n   </cc:Work>\n  </rdf:RDF>\n </metadata>\n <defs>\n  <style type=\"text/css\">*{stroke-linejoin: round; stroke-linecap: butt}</style>\n </defs>\n <g id=\"figure_1\">\n  <g id=\"patch_1\">\n   <path d=\"M 0 144.58 \nL 230.76 144.58 \nL 230.76 0 \nL 0 0 \nz\n\" style=\"fill: #ffffff\"/>\n  </g>\n  <g id=\"axes_1\">\n   <g id=\"line2d_1\">\n    <path d=\"M 115.38 29.2 \nL 115.38 65.2 \nL 124.38 68.2 \nL 106.38 74.2 \nL 124.38 80.2 \nL 106.38 86.2 \nL 124.38 92.2 \nL 106.38 98.2 \nL 115.38 101.2 \nL 115.38 137.2 \n\" clip-path=\"url(#p4a70d16ea8)\" style=\"fill: none; stroke: #000000; stroke-width: 2; stroke-linecap: round\"/>\n   </g>\n   <g id=\"line2d_2\">\n    <path d=\"M 115.38 28.48 \nL 79.38 28.48 \nL 76.38 37.48 \nL 70.38 19.48 \nL 64.38 37.48 \nL 58.38 19.48 \nL 52.38 37.48 \nL 46.38 19.48 \nL 43.38 28.48 \nL 7.38 28.48 \n\" clip-path=\"url(#p4a70d16ea8)\" style=\"fill: none; stroke: #000000; stroke-width: 2; stroke-linecap: round\"/>\n   </g>\n   <g id=\"line2d_3\">\n    <path d=\"M 115.38 28.48 \nL 151.38 28.48 \nL 154.38 19.48 \nL 160.38 37.48 \nL 166.38 19.48 \nL 172.38 37.48 \nL 178.38 19.48 \nL 184.38 37.48 \nL 187.38 28.48 \nL 223.38 28.48 \n\" clip-path=\"url(#p4a70d16ea8)\" style=\"fill: none; stroke: #000000; stroke-width: 2; stroke-linecap: round\"/>\n   </g>\n   <g id=\"text_1\">\n    <!-- $R_1$ -->\n    <g transform=\"translate(86.4 87.063125) scale(0.14 -0.14)\">\n     <defs>\n      <path id=\"DejaVuSans-Oblique-52\" d=\"M 1613 4147 \nL 1294 2491 \nL 2106 2491 \nQ 2584 2491 2879 2755 \nQ 3175 3019 3175 3444 \nQ 3175 3784 2976 3965 \nQ 2778 4147 2406 4147 \nL 1613 4147 \nz\nM 2772 2241 \nQ 2972 2194 3105 2009 \nQ 3238 1825 3413 1275 \nL 3809 0 \nL 3144 0 \nL 2778 1197 \nQ 2638 1659 2453 1815 \nQ 2269 1972 1888 1972 \nL 1191 1972 \nL 806 0 \nL 172 0 \nL 1081 4666 \nL 2503 4666 \nQ 3150 4666 3495 4373 \nQ 3841 4081 3841 3531 \nQ 3841 3044 3547 2687 \nQ 3253 2331 2772 2241 \nz\n\" transform=\"scale(0.015625)\"/>\n      <path id=\"DejaVuSans-31\" d=\"M 794 531 \nL 1825 531 \nL 1825 4091 \nL 703 3866 \nL 703 4441 \nL 1819 4666 \nL 2450 4666 \nL 2450 531 \nL 3481 531 \nL 3481 0 \nL 794 0 \nL 794 531 \nz\n\" transform=\"scale(0.015625)\"/>\n     </defs>\n     <use xlink:href=\"#DejaVuSans-Oblique-52\" transform=\"translate(0 0.09375)\"/>\n     <use xlink:href=\"#DejaVuSans-31\" transform=\"translate(69.482422 -16.3125) scale(0.7)\"/>\n    </g>\n   </g>\n   <g id=\"text_2\">\n    <!-- $R_2$ -->\n    <g transform=\"translate(53.19 12.968437) scale(0.14 -0.14)\">\n     <defs>\n      <path id=\"DejaVuSans-32\" d=\"M 1228 531 \nL 3431 531 \nL 3431 0 \nL 469 0 \nL 469 531 \nQ 828 903 1448 1529 \nQ 2069 2156 2228 2338 \nQ 2531 2678 2651 2914 \nQ 2772 3150 2772 3378 \nQ 2772 3750 2511 3984 \nQ 2250 4219 1831 4219 \nQ 1534 4219 1204 4116 \nQ 875 4013 500 3803 \nL 500 4441 \nQ 881 4594 1212 4672 \nQ 1544 4750 1819 4750 \nQ 2544 4750 2975 4387 \nQ 3406 4025 3406 3419 \nQ 3406 3131 3298 2873 \nQ 3191 2616 2906 2266 \nQ 2828 2175 2409 1742 \nQ 1991 1309 1228 531 \nz\n\" transform=\"scale(0.015625)\"/>\n     </defs>\n     <use xlink:href=\"#DejaVuSans-Oblique-52\" transform=\"translate(0 0.09375)\"/>\n     <use xlink:href=\"#DejaVuSans-32\" transform=\"translate(69.482422 -16.3125) scale(0.7)\"/>\n    </g>\n   </g>\n   <g id=\"text_3\">\n    <!-- $R_3$ -->\n    <g transform=\"translate(161.19 12.968437) scale(0.14 -0.14)\">\n     <defs>\n      <path id=\"DejaVuSans-33\" d=\"M 2597 2516 \nQ 3050 2419 3304 2112 \nQ 3559 1806 3559 1356 \nQ 3559 666 3084 287 \nQ 2609 -91 1734 -91 \nQ 1441 -91 1130 -33 \nQ 819 25 488 141 \nL 488 750 \nQ 750 597 1062 519 \nQ 1375 441 1716 441 \nQ 2309 441 2620 675 \nQ 2931 909 2931 1356 \nQ 2931 1769 2642 2001 \nQ 2353 2234 1838 2234 \nL 1294 2234 \nL 1294 2753 \nL 1863 2753 \nQ 2328 2753 2575 2939 \nQ 2822 3125 2822 3475 \nQ 2822 3834 2567 4026 \nQ 2313 4219 1838 4219 \nQ 1578 4219 1281 4162 \nQ 984 4106 628 3988 \nL 628 4550 \nQ 988 4650 1302 4700 \nQ 1616 4750 1894 4750 \nQ 2613 4750 3031 4423 \nQ 3450 4097 3450 3541 \nQ 3450 3153 3228 2886 \nQ 3006 2619 2597 2516 \nz\n\" transform=\"scale(0.015625)\"/>\n     </defs>\n     <use xlink:href=\"#DejaVuSans-Oblique-52\" transform=\"translate(0 0.09375)\"/>\n     <use xlink:href=\"#DejaVuSans-33\" transform=\"translate(69.482422 -16.3125) scale(0.7)\"/>\n    </g>\n   </g>\n   <g id=\"patch_2\">\n    <path d=\"M 115.38 31.9 \nC 116.096048 31.9 116.782866 31.615511 117.289188 31.109188 \nC 117.795511 30.602866 118.08 29.916048 118.08 29.2 \nC 118.08 28.483952 117.795511 27.797134 117.289188 27.290812 \nC 116.782866 26.784489 116.096048 26.5 115.38 26.5 \nC 114.663952 26.5 113.977134 26.784489 113.470812 27.290812 \nC 112.964489 27.797134 112.68 28.483952 112.68 29.2 \nC 112.68 29.916048 112.964489 30.602866 113.470812 31.109188 \nC 113.977134 31.615511 114.663952 31.9 115.38 31.9 \nz\n\" clip-path=\"url(#p4a70d16ea8)\" style=\"stroke: #000000; stroke-width: 2; stroke-linejoin: miter\"/>\n   </g>\n   <g id=\"patch_3\">\n    <path d=\"M 223.38 31.18 \nC 224.096048 31.18 224.782866 30.895511 225.289188 30.389188 \nC 225.795511 29.882866 226.08 29.196048 226.08 28.48 \nC 226.08 27.763952 225.795511 27.077134 225.289188 26.570812 \nC 224.782866 26.064489 224.096048 25.78 223.38 25.78 \nC 222.663952 25.78 221.977134 26.064489 221.470812 26.570812 \nC 220.964489 27.077134 220.68 27.763952 220.68 28.48 \nC 220.68 29.196048 220.964489 29.882866 221.470812 30.389188 \nC 221.977134 30.895511 222.663952 31.18 223.38 31.18 \nz\n\" clip-path=\"url(#p4a70d16ea8)\" style=\"stroke: #000000; stroke-width: 2; stroke-linejoin: miter\"/>\n   </g>\n   <g id=\"patch_4\">\n    <path d=\"M 7.38 31.18 \nC 8.096048 31.18 8.782866 30.895511 9.289188 30.389188 \nC 9.795511 29.882866 10.08 29.196048 10.08 28.48 \nC 10.08 27.763952 9.795511 27.077134 9.289188 26.570812 \nC 8.782866 26.064489 8.096048 25.78 7.38 25.78 \nC 6.663952 25.78 5.977134 26.064489 5.470812 26.570812 \nC 4.964489 27.077134 4.68 27.763952 4.68 28.48 \nC 4.68 29.196048 4.964489 29.882866 5.470812 30.389188 \nC 5.977134 30.895511 6.663952 31.18 7.38 31.18 \nz\n\" clip-path=\"url(#p4a70d16ea8)\" style=\"stroke: #000000; stroke-width: 2; stroke-linejoin: miter\"/>\n   </g>\n   <g id=\"patch_5\">\n    <path d=\"M 115.38 139.9 \nC 116.096048 139.9 116.782866 139.615511 117.289188 139.109188 \nC 117.795511 138.602866 118.08 137.916048 118.08 137.2 \nC 118.08 136.483952 117.795511 135.797134 117.289188 135.290812 \nC 116.782866 134.784489 116.096048 134.5 115.38 134.5 \nC 114.663952 134.5 113.977134 134.784489 113.470812 135.290812 \nC 112.964489 135.797134 112.68 136.483952 112.68 137.2 \nC 112.68 137.916048 112.964489 138.602866 113.470812 139.109188 \nC 113.977134 139.615511 114.663952 139.9 115.38 139.9 \nz\n\" clip-path=\"url(#p4a70d16ea8)\" style=\"stroke: #000000; stroke-width: 2; stroke-linejoin: miter\"/>\n   </g>\n  </g>\n </g>\n <defs>\n  <clipPath id=\"p4a70d16ea8\">\n   <rect x=\"0\" y=\"-0\" width=\"230.76\" height=\"144.58\"/>\n  </clipPath>\n </defs>\n</svg>\n",
            "image/png": "[encoded data removed]"
          },
          "metadata": {}
        },
        {
          "output_type": "stream",
          "name": "stdout",
          "text": [
            "Circuito en Delta:\n"
          ]
        },
        {
          "output_type": "display_data",
          "data": {
            "text/plain": [
              "<schemdraw.backends.mpl.Figure object at 0x7beb94caddd0>"
            ],
            "image/svg+xml": "<?xml version=\"1.0\" encoding=\"utf-8\" standalone=\"no\"?>\n<!DOCTYPE svg PUBLIC \"-//W3C//DTD SVG 1.1//EN\"\n  \"http://www.w3.org/Graphics/SVG/1.1/DTD/svg11.dtd\">\n<svg xmlns:xlink=\"http://www.w3.org/1999/xlink\" width=\"159.456pt\" height=\"126.36pt\" viewBox=\"0 0 159.456 126.36\" xmlns=\"http://www.w3.org/2000/svg\" version=\"1.1\">\n <metadata>\n  <rdf:RDF xmlns:dc=\"http://purl.org/dc/elements/1.1/\" xmlns:cc=\"http://creativecommons.org/ns#\" xmlns:rdf=\"http://www.w3.org/1999/02/22-rdf-syntax-ns#\">\n   <cc:Work>\n    <dc:type rdf:resource=\"http://purl.org/dc/dcmitype/StillImage\"/>\n    <dc:date>2025-02-11T17:45:02.266891</dc:date>\n    <dc:format>image/svg+xml</dc:format>\n    <dc:creator>\n     <cc:Agent>\n      <dc:title>Matplotlib v3.10.0, https://matplotlib.org/</dc:title>\n     </cc:Agent>\n    </dc:creator>\n   </cc:Work>\n  </rdf:RDF>\n </metadata>\n <defs>\n  <style type=\"text/css\">*{stroke-linejoin: round; stroke-linecap: butt}</style>\n </defs>\n <g id=\"figure_1\">\n  <g id=\"patch_1\">\n   <path d=\"M 0 126.36 \nL 159.456 126.36 \nL 159.456 0 \nL 0 0 \nz\n\" style=\"fill: #ffffff\"/>\n  </g>\n  <g id=\"axes_1\">\n   <g id=\"line2d_1\">\n    <path d=\"M 37.776 4.68 \nL 37.776 40.68 \nL 46.776 43.68 \nL 28.776 49.68 \nL 46.776 55.68 \nL 28.776 61.68 \nL 46.776 67.68 \nL 28.776 73.68 \nL 37.776 76.68 \nL 37.776 112.68 \n\" clip-path=\"url(#pbd31ec6eb1)\" style=\"fill: none; stroke: #000000; stroke-width: 2; stroke-linecap: round\"/>\n   </g>\n   <g id=\"line2d_2\">\n    <path d=\"M 37.776 112.68 \nL 73.776 112.68 \nL 76.776 103.68 \nL 82.776 121.68 \nL 88.776 103.68 \nL 94.776 121.68 \nL 100.776 103.68 \nL 106.776 121.68 \nL 109.776 112.68 \nL 145.776 112.68 \n\" clip-path=\"url(#pbd31ec6eb1)\" style=\"fill: none; stroke: #000000; stroke-width: 2; stroke-linecap: round\"/>\n   </g>\n   <g id=\"line2d_3\">\n    <path d=\"M 145.776 112.68 \nL 145.776 76.68 \nL 136.776 73.68 \nL 154.776 67.68 \nL 136.776 61.68 \nL 154.776 55.68 \nL 136.776 49.68 \nL 154.776 43.68 \nL 145.776 40.68 \nL 145.776 4.68 \n\" clip-path=\"url(#pbd31ec6eb1)\" style=\"fill: none; stroke: #000000; stroke-width: 2; stroke-linecap: round\"/>\n   </g>\n   <g id=\"line2d_4\">\n    <path d=\"M 145.776 4.68 \nL 91.776 4.68 \nL 37.776 4.68 \n\" clip-path=\"url(#pbd31ec6eb1)\" style=\"fill: none; stroke: #000000; stroke-width: 2; stroke-linecap: round\"/>\n   </g>\n   <g id=\"text_1\">\n    <!-- $R_a$ -->\n    <g transform=\"translate(8.936 62.543125) scale(0.14 -0.14)\">\n     <defs>\n      <path id=\"DejaVuSans-Oblique-52\" d=\"M 1613 4147 \nL 1294 2491 \nL 2106 2491 \nQ 2584 2491 2879 2755 \nQ 3175 3019 3175 3444 \nQ 3175 3784 2976 3965 \nQ 2778 4147 2406 4147 \nL 1613 4147 \nz\nM 2772 2241 \nQ 2972 2194 3105 2009 \nQ 3238 1825 3413 1275 \nL 3809 0 \nL 3144 0 \nL 2778 1197 \nQ 2638 1659 2453 1815 \nQ 2269 1972 1888 1972 \nL 1191 1972 \nL 806 0 \nL 172 0 \nL 1081 4666 \nL 2503 4666 \nQ 3150 4666 3495 4373 \nQ 3841 4081 3841 3531 \nQ 3841 3044 3547 2687 \nQ 3253 2331 2772 2241 \nz\n\" transform=\"scale(0.015625)\"/>\n      <path id=\"DejaVuSans-Oblique-61\" d=\"M 3438 1997 \nL 3047 0 \nL 2472 0 \nL 2578 531 \nQ 2325 219 2001 64 \nQ 1678 -91 1281 -91 \nQ 834 -91 548 182 \nQ 263 456 263 884 \nQ 263 1497 752 1853 \nQ 1241 2209 2100 2209 \nL 2900 2209 \nL 2931 2363 \nQ 2938 2388 2941 2417 \nQ 2944 2447 2944 2509 \nQ 2944 2788 2717 2942 \nQ 2491 3097 2081 3097 \nQ 1800 3097 1504 3025 \nQ 1209 2953 897 2809 \nL 997 3341 \nQ 1322 3463 1633 3523 \nQ 1944 3584 2234 3584 \nQ 2853 3584 3176 3315 \nQ 3500 3047 3500 2534 \nQ 3500 2431 3484 2292 \nQ 3469 2153 3438 1997 \nz\nM 2816 1759 \nL 2241 1759 \nQ 1534 1759 1195 1570 \nQ 856 1381 856 984 \nQ 856 709 1029 553 \nQ 1203 397 1509 397 \nQ 1978 397 2328 733 \nQ 2678 1069 2791 1631 \nL 2816 1759 \nz\n\" transform=\"scale(0.015625)\"/>\n     </defs>\n     <use xlink:href=\"#DejaVuSans-Oblique-52\" transform=\"translate(0 0.09375)\"/>\n     <use xlink:href=\"#DejaVuSans-Oblique-61\" transform=\"translate(69.482422 -16.3125) scale(0.7)\"/>\n    </g>\n   </g>\n   <g id=\"text_2\">\n    <!-- $R_b$ -->\n    <g transform=\"translate(83.586 97.168438) scale(0.14 -0.14)\">\n     <defs>\n      <path id=\"DejaVuSans-Oblique-62\" d=\"M 3169 2138 \nQ 3169 2591 2961 2847 \nQ 2753 3103 2388 3103 \nQ 2122 3103 1889 2973 \nQ 1656 2844 1484 2597 \nQ 1303 2338 1198 1995 \nQ 1094 1653 1094 1313 \nQ 1094 881 1298 636 \nQ 1503 391 1863 391 \nQ 2134 391 2365 517 \nQ 2597 644 2772 891 \nQ 2950 1147 3059 1487 \nQ 3169 1828 3169 2138 \nz\nM 1381 2969 \nQ 1594 3256 1914 3420 \nQ 2234 3584 2584 3584 \nQ 3122 3584 3439 3221 \nQ 3756 2859 3756 2241 \nQ 3756 1734 3570 1259 \nQ 3384 784 3041 416 \nQ 2816 172 2522 40 \nQ 2228 -91 1906 -91 \nQ 1566 -91 1316 65 \nQ 1066 222 909 531 \nL 806 0 \nL 231 0 \nL 1178 4863 \nL 1753 4863 \nL 1381 2969 \nz\n\" transform=\"scale(0.015625)\"/>\n     </defs>\n     <use xlink:href=\"#DejaVuSans-Oblique-52\" transform=\"translate(0 0.09375)\"/>\n     <use xlink:href=\"#DejaVuSans-Oblique-62\" transform=\"translate(69.482422 -16.3125) scale(0.7)\"/>\n    </g>\n   </g>\n   <g id=\"text_3\">\n    <!-- $R_c$ -->\n    <g transform=\"translate(117.636 62.543125) scale(0.14 -0.14)\">\n     <defs>\n      <path id=\"DejaVuSans-Oblique-63\" d=\"M 3431 3366 \nL 3316 2797 \nQ 3109 2947 2876 3022 \nQ 2644 3097 2394 3097 \nQ 2119 3097 1870 3000 \nQ 1622 2903 1453 2725 \nQ 1184 2453 1037 2087 \nQ 891 1722 891 1331 \nQ 891 859 1127 628 \nQ 1363 397 1844 397 \nQ 2081 397 2348 469 \nQ 2616 541 2906 684 \nL 2797 116 \nQ 2547 13 2283 -39 \nQ 2019 -91 1741 -91 \nQ 1044 -91 669 257 \nQ 294 606 294 1253 \nQ 294 1797 489 2255 \nQ 684 2713 1069 3078 \nQ 1331 3328 1684 3456 \nQ 2038 3584 2456 3584 \nQ 2700 3584 2940 3529 \nQ 3181 3475 3431 3366 \nz\n\" transform=\"scale(0.015625)\"/>\n     </defs>\n     <use xlink:href=\"#DejaVuSans-Oblique-52\" transform=\"translate(0 0.09375)\"/>\n     <use xlink:href=\"#DejaVuSans-Oblique-63\" transform=\"translate(69.482422 -16.3125) scale(0.7)\"/>\n    </g>\n   </g>\n  </g>\n </g>\n <defs>\n  <clipPath id=\"pbd31ec6eb1\">\n   <rect x=\"0\" y=\"0\" width=\"159.456\" height=\"126.36\"/>\n  </clipPath>\n </defs>\n</svg>\n",
            "image/png": "[encoded data removed]"
          },
          "metadata": {}
        }
      ]
    },
    {
      "cell_type": "markdown",
      "source": [
        "## **4. Código Interactivo**\n",
        "\n",
        "Los estudiantes pueden probar sus propios valores de resistencias y realizar las transformaciones automáticamente:\n"
      ],
      "metadata": {
        "id": "YfyPWZXVE7wa"
      }
    },
    {
      "cell_type": "code",
      "source": [
        "import numpy as np\n",
        "\n",
        "def delta_a_estrella(Ra, Rb, Rc):\n",
        "    R1 = (Rb * Rc) / (Ra + Rb + Rc)\n",
        "    R2 = (Ra * Rc) / (Ra + Rb + Rc)\n",
        "    R3 = (Ra * Rb) / (Ra + Rb + Rc)\n",
        "    return R1, R2, R3\n",
        "\n",
        "def estrella_a_delta(R1, R2, R3):\n",
        "    Ra = (R1 * R2 + R2 * R3 + R3 * R1) / R1\n",
        "    Rb = (R1 * R2 + R2 * R3 + R3 * R1) / R2\n",
        "    Rc = (R1 * R2 + R2 * R3 + R3 * R1) / R3\n",
        "    return Ra, Rb, Rc\n",
        "\n",
        "opcion = input(\"Seleccione la transformación (1: Δ → Y, 2: Y → Δ): \")\n",
        "if opcion == \"1\":\n",
        "    Ra = float(input(\"Ingrese R_a: \"))\n",
        "    Rb = float(input(\"Ingrese R_b: \"))\n",
        "    Rc = float(input(\"Ingrese R_c: \"))\n",
        "    R1, R2, R3 = delta_a_estrella(Ra, Rb, Rc)\n",
        "    print(f\"Resistencias en estrella: R1 = {R1:.2f}Ω, R2 = {R2:.2f}Ω, R3 = {R3:.2f}Ω\")\n",
        "elif opcion == \"2\":\n",
        "    R1 = float(input(\"Ingrese R1: \"))\n",
        "    R2 = float(input(\"Ingrese R2: \"))\n",
        "    R3 = float(input(\"Ingrese R3: \"))\n",
        "    Ra, Rb, Rc = estrella_a_delta(R1, R2, R3)\n",
        "    print(f\"Resistencias en delta: Ra = {Ra:.2f}Ω, Rb = {Rb:.2f}Ω, Rc = {Rc:.2f}Ω\")\n",
        "else:\n",
        "    print(\"Opción no válida.\")"
      ],
      "metadata": {
        "colab": {
          "base_uri": "https://localhost:8080/"
        },
        "id": "L4ixcjqiE_Ef",
        "outputId": "11913a90-2783-44e8-c528-5f42cb947472"
      },
      "execution_count": 4,
      "outputs": [
        {
          "output_type": "stream",
          "name": "stdout",
          "text": [
            "Seleccione la transformación (1: Δ → Y, 2: Y → Δ): 1\n",
            "Ingrese R_a: 1\n",
            "Ingrese R_b: 1\n",
            "Ingrese R_c: 1\n",
            "Resistencias en estrella: R1 = 0.33Ω, R2 = 0.33Ω, R3 = 0.33Ω\n"
          ]
        }
      ]
    }
  ]
}